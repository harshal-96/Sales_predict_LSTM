{
 "cells": [
  {
   "cell_type": "code",
   "execution_count": 1,
   "id": "81685de7",
   "metadata": {
    "_cell_guid": "b1076dfc-b9ad-4769-8c92-a6c4dae69d19",
    "_uuid": "8f2839f25d086af736a60e9eeb907d3b93b6e0e5",
    "execution": {
     "iopub.execute_input": "2024-01-31T17:51:32.155606Z",
     "iopub.status.busy": "2024-01-31T17:51:32.155228Z",
     "iopub.status.idle": "2024-01-31T17:51:38.177061Z",
     "shell.execute_reply": "2024-01-31T17:51:38.176218Z"
    },
    "papermill": {
     "duration": 6.031995,
     "end_time": "2024-01-31T17:51:38.179273",
     "exception": false,
     "start_time": "2024-01-31T17:51:32.147278",
     "status": "completed"
    },
    "tags": []
   },
   "outputs": [
    {
     "name": "stderr",
     "output_type": "stream",
     "text": [
      "/opt/conda/lib/python3.10/site-packages/dask/dataframe/_pyarrow_compat.py:23: UserWarning: You are using pyarrow version 11.0.0 which is known to be insecure. See https://www.cve.org/CVERecord?id=CVE-2023-47248 for further details. Please upgrade to pyarrow>=14.0.1 or install pyarrow-hotfix to patch your current version.\n",
      "  warnings.warn(\n"
     ]
    }
   ],
   "source": [
    "import pandas as pd\n",
    "import numpy as np\n",
    "import seaborn as sns\n",
    "import matplotlib.pyplot as plt\n",
    "from sklearn.metrics import mean_absolute_percentage_error\n",
    "import itertools\n",
    "import math\n",
    "import re\n",
    "import lightgbm as lgb"
   ]
  },
  {
   "cell_type": "code",
   "execution_count": 2,
   "id": "627f7521",
   "metadata": {
    "execution": {
     "iopub.execute_input": "2024-01-31T17:51:38.193218Z",
     "iopub.status.busy": "2024-01-31T17:51:38.192455Z",
     "iopub.status.idle": "2024-01-31T17:51:38.196541Z",
     "shell.execute_reply": "2024-01-31T17:51:38.195714Z"
    },
    "papermill": {
     "duration": 0.012821,
     "end_time": "2024-01-31T17:51:38.198383",
     "exception": false,
     "start_time": "2024-01-31T17:51:38.185562",
     "status": "completed"
    },
    "tags": []
   },
   "outputs": [],
   "source": [
    "idx = pd.IndexSlice"
   ]
  },
  {
   "cell_type": "code",
   "execution_count": 3,
   "id": "2cdc211a",
   "metadata": {
    "execution": {
     "iopub.execute_input": "2024-01-31T17:51:38.211377Z",
     "iopub.status.busy": "2024-01-31T17:51:38.211084Z",
     "iopub.status.idle": "2024-01-31T17:51:41.618385Z",
     "shell.execute_reply": "2024-01-31T17:51:41.617517Z"
    },
    "papermill": {
     "duration": 3.41636,
     "end_time": "2024-01-31T17:51:41.620664",
     "exception": false,
     "start_time": "2024-01-31T17:51:38.204304",
     "status": "completed"
    },
    "tags": []
   },
   "outputs": [],
   "source": [
    "train =pd.read_csv(\"/kaggle/input/store-sales-time-series-forecasting/train.csv\")\n",
    "test=pd.read_csv(\"/kaggle/input/store-sales-time-series-forecasting/test.csv\")\n",
    "oil=pd.read_csv(\"/kaggle/input/store-sales-time-series-forecasting/oil.csv\")\n",
    "stores=pd.read_csv(\"/kaggle/input/store-sales-time-series-forecasting/stores.csv\")\n",
    "transactions=pd.read_csv(\"/kaggle/input/store-sales-time-series-forecasting/transactions.csv\")\n",
    "holidays=pd.read_csv(\"/kaggle/input/store-sales-time-series-forecasting/holidays_events.csv\")"
   ]
  },
  {
   "cell_type": "code",
   "execution_count": 4,
   "id": "09afac7c",
   "metadata": {
    "execution": {
     "iopub.execute_input": "2024-01-31T17:51:41.635147Z",
     "iopub.status.busy": "2024-01-31T17:51:41.634415Z",
     "iopub.status.idle": "2024-01-31T17:51:41.788514Z",
     "shell.execute_reply": "2024-01-31T17:51:41.787664Z"
    },
    "papermill": {
     "duration": 0.163492,
     "end_time": "2024-01-31T17:51:41.790849",
     "exception": false,
     "start_time": "2024-01-31T17:51:41.627357",
     "status": "completed"
    },
    "tags": []
   },
   "outputs": [],
   "source": [
    "train['test'] = 0\n",
    "test['test'] = 1\n",
    "\n",
    "data = pd.concat([train, test], axis=0)"
   ]
  },
  {
   "cell_type": "code",
   "execution_count": 5,
   "id": "a7d1cdf7",
   "metadata": {
    "execution": {
     "iopub.execute_input": "2024-01-31T17:51:41.804388Z",
     "iopub.status.busy": "2024-01-31T17:51:41.803668Z",
     "iopub.status.idle": "2024-01-31T17:51:51.258620Z",
     "shell.execute_reply": "2024-01-31T17:51:51.257727Z"
    },
    "papermill": {
     "duration": 9.464021,
     "end_time": "2024-01-31T17:51:51.260933",
     "exception": false,
     "start_time": "2024-01-31T17:51:41.796912",
     "status": "completed"
    },
    "tags": []
   },
   "outputs": [
    {
     "data": {
      "text/html": [
       "<div>\n",
       "<style scoped>\n",
       "    .dataframe tbody tr th:only-of-type {\n",
       "        vertical-align: middle;\n",
       "    }\n",
       "\n",
       "    .dataframe tbody tr th {\n",
       "        vertical-align: top;\n",
       "    }\n",
       "\n",
       "    .dataframe thead th {\n",
       "        text-align: right;\n",
       "    }\n",
       "</style>\n",
       "<table border=\"1\" class=\"dataframe\">\n",
       "  <thead>\n",
       "    <tr style=\"text-align: right;\">\n",
       "      <th></th>\n",
       "      <th></th>\n",
       "      <th></th>\n",
       "      <th>id</th>\n",
       "      <th>sales</th>\n",
       "      <th>onpromotion</th>\n",
       "      <th>test</th>\n",
       "      <th>type_x</th>\n",
       "      <th>locale</th>\n",
       "      <th>locale_name</th>\n",
       "      <th>description</th>\n",
       "      <th>transferred</th>\n",
       "      <th>city</th>\n",
       "      <th>state</th>\n",
       "      <th>type_y</th>\n",
       "      <th>cluster</th>\n",
       "      <th>dcoilwtico</th>\n",
       "      <th>transactions</th>\n",
       "    </tr>\n",
       "    <tr>\n",
       "      <th>store_nbr</th>\n",
       "      <th>date</th>\n",
       "      <th>family</th>\n",
       "      <th></th>\n",
       "      <th></th>\n",
       "      <th></th>\n",
       "      <th></th>\n",
       "      <th></th>\n",
       "      <th></th>\n",
       "      <th></th>\n",
       "      <th></th>\n",
       "      <th></th>\n",
       "      <th></th>\n",
       "      <th></th>\n",
       "      <th></th>\n",
       "      <th></th>\n",
       "      <th></th>\n",
       "      <th></th>\n",
       "    </tr>\n",
       "  </thead>\n",
       "  <tbody>\n",
       "    <tr>\n",
       "      <th rowspan=\"5\" valign=\"top\">1</th>\n",
       "      <th rowspan=\"5\" valign=\"top\">2013-01-02</th>\n",
       "      <th>AUTOMOTIVE</th>\n",
       "      <td>1782</td>\n",
       "      <td>2.0</td>\n",
       "      <td>0</td>\n",
       "      <td>0</td>\n",
       "      <td>NaN</td>\n",
       "      <td>NaN</td>\n",
       "      <td>NaN</td>\n",
       "      <td>NaN</td>\n",
       "      <td>NaN</td>\n",
       "      <td>Quito</td>\n",
       "      <td>Pichincha</td>\n",
       "      <td>D</td>\n",
       "      <td>13</td>\n",
       "      <td>93.14</td>\n",
       "      <td>2111.0</td>\n",
       "    </tr>\n",
       "    <tr>\n",
       "      <th>BABY CARE</th>\n",
       "      <td>1783</td>\n",
       "      <td>0.0</td>\n",
       "      <td>0</td>\n",
       "      <td>0</td>\n",
       "      <td>NaN</td>\n",
       "      <td>NaN</td>\n",
       "      <td>NaN</td>\n",
       "      <td>NaN</td>\n",
       "      <td>NaN</td>\n",
       "      <td>Quito</td>\n",
       "      <td>Pichincha</td>\n",
       "      <td>D</td>\n",
       "      <td>13</td>\n",
       "      <td>93.14</td>\n",
       "      <td>2111.0</td>\n",
       "    </tr>\n",
       "    <tr>\n",
       "      <th>BEAUTY</th>\n",
       "      <td>1784</td>\n",
       "      <td>2.0</td>\n",
       "      <td>0</td>\n",
       "      <td>0</td>\n",
       "      <td>NaN</td>\n",
       "      <td>NaN</td>\n",
       "      <td>NaN</td>\n",
       "      <td>NaN</td>\n",
       "      <td>NaN</td>\n",
       "      <td>Quito</td>\n",
       "      <td>Pichincha</td>\n",
       "      <td>D</td>\n",
       "      <td>13</td>\n",
       "      <td>93.14</td>\n",
       "      <td>2111.0</td>\n",
       "    </tr>\n",
       "    <tr>\n",
       "      <th>BEVERAGES</th>\n",
       "      <td>1785</td>\n",
       "      <td>1091.0</td>\n",
       "      <td>0</td>\n",
       "      <td>0</td>\n",
       "      <td>NaN</td>\n",
       "      <td>NaN</td>\n",
       "      <td>NaN</td>\n",
       "      <td>NaN</td>\n",
       "      <td>NaN</td>\n",
       "      <td>Quito</td>\n",
       "      <td>Pichincha</td>\n",
       "      <td>D</td>\n",
       "      <td>13</td>\n",
       "      <td>93.14</td>\n",
       "      <td>2111.0</td>\n",
       "    </tr>\n",
       "    <tr>\n",
       "      <th>BOOKS</th>\n",
       "      <td>1786</td>\n",
       "      <td>0.0</td>\n",
       "      <td>0</td>\n",
       "      <td>0</td>\n",
       "      <td>NaN</td>\n",
       "      <td>NaN</td>\n",
       "      <td>NaN</td>\n",
       "      <td>NaN</td>\n",
       "      <td>NaN</td>\n",
       "      <td>Quito</td>\n",
       "      <td>Pichincha</td>\n",
       "      <td>D</td>\n",
       "      <td>13</td>\n",
       "      <td>93.14</td>\n",
       "      <td>2111.0</td>\n",
       "    </tr>\n",
       "    <tr>\n",
       "      <th>...</th>\n",
       "      <th>...</th>\n",
       "      <th>...</th>\n",
       "      <td>...</td>\n",
       "      <td>...</td>\n",
       "      <td>...</td>\n",
       "      <td>...</td>\n",
       "      <td>...</td>\n",
       "      <td>...</td>\n",
       "      <td>...</td>\n",
       "      <td>...</td>\n",
       "      <td>...</td>\n",
       "      <td>...</td>\n",
       "      <td>...</td>\n",
       "      <td>...</td>\n",
       "      <td>...</td>\n",
       "      <td>...</td>\n",
       "      <td>...</td>\n",
       "    </tr>\n",
       "    <tr>\n",
       "      <th rowspan=\"5\" valign=\"top\">9</th>\n",
       "      <th rowspan=\"5\" valign=\"top\">2017-08-31</th>\n",
       "      <th>POULTRY</th>\n",
       "      <td>3029395</td>\n",
       "      <td>NaN</td>\n",
       "      <td>1</td>\n",
       "      <td>1</td>\n",
       "      <td>NaN</td>\n",
       "      <td>NaN</td>\n",
       "      <td>NaN</td>\n",
       "      <td>NaN</td>\n",
       "      <td>NaN</td>\n",
       "      <td>Quito</td>\n",
       "      <td>Pichincha</td>\n",
       "      <td>B</td>\n",
       "      <td>6</td>\n",
       "      <td>47.26</td>\n",
       "      <td>NaN</td>\n",
       "    </tr>\n",
       "    <tr>\n",
       "      <th>PREPARED FOODS</th>\n",
       "      <td>3029396</td>\n",
       "      <td>NaN</td>\n",
       "      <td>0</td>\n",
       "      <td>1</td>\n",
       "      <td>NaN</td>\n",
       "      <td>NaN</td>\n",
       "      <td>NaN</td>\n",
       "      <td>NaN</td>\n",
       "      <td>NaN</td>\n",
       "      <td>Quito</td>\n",
       "      <td>Pichincha</td>\n",
       "      <td>B</td>\n",
       "      <td>6</td>\n",
       "      <td>47.26</td>\n",
       "      <td>NaN</td>\n",
       "    </tr>\n",
       "    <tr>\n",
       "      <th>PRODUCE</th>\n",
       "      <td>3029397</td>\n",
       "      <td>NaN</td>\n",
       "      <td>1</td>\n",
       "      <td>1</td>\n",
       "      <td>NaN</td>\n",
       "      <td>NaN</td>\n",
       "      <td>NaN</td>\n",
       "      <td>NaN</td>\n",
       "      <td>NaN</td>\n",
       "      <td>Quito</td>\n",
       "      <td>Pichincha</td>\n",
       "      <td>B</td>\n",
       "      <td>6</td>\n",
       "      <td>47.26</td>\n",
       "      <td>NaN</td>\n",
       "    </tr>\n",
       "    <tr>\n",
       "      <th>SCHOOL AND OFFICE SUPPLIES</th>\n",
       "      <td>3029398</td>\n",
       "      <td>NaN</td>\n",
       "      <td>9</td>\n",
       "      <td>1</td>\n",
       "      <td>NaN</td>\n",
       "      <td>NaN</td>\n",
       "      <td>NaN</td>\n",
       "      <td>NaN</td>\n",
       "      <td>NaN</td>\n",
       "      <td>Quito</td>\n",
       "      <td>Pichincha</td>\n",
       "      <td>B</td>\n",
       "      <td>6</td>\n",
       "      <td>47.26</td>\n",
       "      <td>NaN</td>\n",
       "    </tr>\n",
       "    <tr>\n",
       "      <th>SEAFOOD</th>\n",
       "      <td>3029399</td>\n",
       "      <td>NaN</td>\n",
       "      <td>0</td>\n",
       "      <td>1</td>\n",
       "      <td>NaN</td>\n",
       "      <td>NaN</td>\n",
       "      <td>NaN</td>\n",
       "      <td>NaN</td>\n",
       "      <td>NaN</td>\n",
       "      <td>Quito</td>\n",
       "      <td>Pichincha</td>\n",
       "      <td>B</td>\n",
       "      <td>6</td>\n",
       "      <td>47.26</td>\n",
       "      <td>NaN</td>\n",
       "    </tr>\n",
       "  </tbody>\n",
       "</table>\n",
       "<p>3081078 rows × 15 columns</p>\n",
       "</div>"
      ],
      "text/plain": [
       "                                                      id   sales  onpromotion  \\\n",
       "store_nbr date       family                                                     \n",
       "1         2013-01-02 AUTOMOTIVE                     1782     2.0            0   \n",
       "                     BABY CARE                      1783     0.0            0   \n",
       "                     BEAUTY                         1784     2.0            0   \n",
       "                     BEVERAGES                      1785  1091.0            0   \n",
       "                     BOOKS                          1786     0.0            0   \n",
       "...                                                  ...     ...          ...   \n",
       "9         2017-08-31 POULTRY                     3029395     NaN            1   \n",
       "                     PREPARED FOODS              3029396     NaN            0   \n",
       "                     PRODUCE                     3029397     NaN            1   \n",
       "                     SCHOOL AND OFFICE SUPPLIES  3029398     NaN            9   \n",
       "                     SEAFOOD                     3029399     NaN            0   \n",
       "\n",
       "                                                 test type_x locale  \\\n",
       "store_nbr date       family                                           \n",
       "1         2013-01-02 AUTOMOTIVE                     0    NaN    NaN   \n",
       "                     BABY CARE                      0    NaN    NaN   \n",
       "                     BEAUTY                         0    NaN    NaN   \n",
       "                     BEVERAGES                      0    NaN    NaN   \n",
       "                     BOOKS                          0    NaN    NaN   \n",
       "...                                               ...    ...    ...   \n",
       "9         2017-08-31 POULTRY                        1    NaN    NaN   \n",
       "                     PREPARED FOODS                 1    NaN    NaN   \n",
       "                     PRODUCE                        1    NaN    NaN   \n",
       "                     SCHOOL AND OFFICE SUPPLIES     1    NaN    NaN   \n",
       "                     SEAFOOD                        1    NaN    NaN   \n",
       "\n",
       "                                                locale_name description  \\\n",
       "store_nbr date       family                                               \n",
       "1         2013-01-02 AUTOMOTIVE                         NaN         NaN   \n",
       "                     BABY CARE                          NaN         NaN   \n",
       "                     BEAUTY                             NaN         NaN   \n",
       "                     BEVERAGES                          NaN         NaN   \n",
       "                     BOOKS                              NaN         NaN   \n",
       "...                                                     ...         ...   \n",
       "9         2017-08-31 POULTRY                            NaN         NaN   \n",
       "                     PREPARED FOODS                     NaN         NaN   \n",
       "                     PRODUCE                            NaN         NaN   \n",
       "                     SCHOOL AND OFFICE SUPPLIES         NaN         NaN   \n",
       "                     SEAFOOD                            NaN         NaN   \n",
       "\n",
       "                                                transferred   city      state  \\\n",
       "store_nbr date       family                                                     \n",
       "1         2013-01-02 AUTOMOTIVE                         NaN  Quito  Pichincha   \n",
       "                     BABY CARE                          NaN  Quito  Pichincha   \n",
       "                     BEAUTY                             NaN  Quito  Pichincha   \n",
       "                     BEVERAGES                          NaN  Quito  Pichincha   \n",
       "                     BOOKS                              NaN  Quito  Pichincha   \n",
       "...                                                     ...    ...        ...   \n",
       "9         2017-08-31 POULTRY                            NaN  Quito  Pichincha   \n",
       "                     PREPARED FOODS                     NaN  Quito  Pichincha   \n",
       "                     PRODUCE                            NaN  Quito  Pichincha   \n",
       "                     SCHOOL AND OFFICE SUPPLIES         NaN  Quito  Pichincha   \n",
       "                     SEAFOOD                            NaN  Quito  Pichincha   \n",
       "\n",
       "                                                type_y  cluster  dcoilwtico  \\\n",
       "store_nbr date       family                                                   \n",
       "1         2013-01-02 AUTOMOTIVE                      D       13       93.14   \n",
       "                     BABY CARE                       D       13       93.14   \n",
       "                     BEAUTY                          D       13       93.14   \n",
       "                     BEVERAGES                       D       13       93.14   \n",
       "                     BOOKS                           D       13       93.14   \n",
       "...                                                ...      ...         ...   \n",
       "9         2017-08-31 POULTRY                         B        6       47.26   \n",
       "                     PREPARED FOODS                  B        6       47.26   \n",
       "                     PRODUCE                         B        6       47.26   \n",
       "                     SCHOOL AND OFFICE SUPPLIES      B        6       47.26   \n",
       "                     SEAFOOD                         B        6       47.26   \n",
       "\n",
       "                                                 transactions  \n",
       "store_nbr date       family                                    \n",
       "1         2013-01-02 AUTOMOTIVE                        2111.0  \n",
       "                     BABY CARE                         2111.0  \n",
       "                     BEAUTY                            2111.0  \n",
       "                     BEVERAGES                         2111.0  \n",
       "                     BOOKS                             2111.0  \n",
       "...                                                       ...  \n",
       "9         2017-08-31 POULTRY                              NaN  \n",
       "                     PREPARED FOODS                       NaN  \n",
       "                     PRODUCE                              NaN  \n",
       "                     SCHOOL AND OFFICE SUPPLIES           NaN  \n",
       "                     SEAFOOD                              NaN  \n",
       "\n",
       "[3081078 rows x 15 columns]"
      ]
     },
     "execution_count": 5,
     "metadata": {},
     "output_type": "execute_result"
    }
   ],
   "source": [
    "data = data.merge(holidays, on='date', how='left')\n",
    "data= data.merge(stores, on='store_nbr', how='left')\n",
    "data= data.merge(oil, on='date', how='left')\n",
    "data= data.merge(transactions, on=['date', 'store_nbr'], how='left')\n",
    "data = data.set_index(['store_nbr', 'date', 'family'])\n",
    "data = data.drop(index='2013-01-01', level=1)\n",
    "data"
   ]
  },
  {
   "cell_type": "code",
   "execution_count": 6,
   "id": "e1023033",
   "metadata": {
    "execution": {
     "iopub.execute_input": "2024-01-31T17:51:51.276091Z",
     "iopub.status.busy": "2024-01-31T17:51:51.275489Z",
     "iopub.status.idle": "2024-01-31T17:51:53.636060Z",
     "shell.execute_reply": "2024-01-31T17:51:53.635067Z"
    },
    "papermill": {
     "duration": 2.370533,
     "end_time": "2024-01-31T17:51:53.638255",
     "exception": false,
     "start_time": "2024-01-31T17:51:51.267722",
     "status": "completed"
    },
    "tags": []
   },
   "outputs": [
    {
     "name": "stderr",
     "output_type": "stream",
     "text": [
      "/tmp/ipykernel_27/1357458643.py:6: SettingWithCopyWarning: \n",
      "A value is trying to be set on a copy of a slice from a DataFrame.\n",
      "Try using .loc[row_indexer,col_indexer] = value instead\n",
      "\n",
      "See the caveats in the documentation: https://pandas.pydata.org/pandas-docs/stable/user_guide/indexing.html#returning-a-view-versus-a-copy\n",
      "  train['date'] = pd.to_datetime(train[\"date\"])\n",
      "/tmp/ipykernel_27/1357458643.py:7: SettingWithCopyWarning: \n",
      "A value is trying to be set on a copy of a slice from a DataFrame.\n",
      "Try using .loc[row_indexer,col_indexer] = value instead\n",
      "\n",
      "See the caveats in the documentation: https://pandas.pydata.org/pandas-docs/stable/user_guide/indexing.html#returning-a-view-versus-a-copy\n",
      "  train['day_of_week'] = train['date'].dt.day_of_week\n",
      "/tmp/ipykernel_27/1357458643.py:8: SettingWithCopyWarning: \n",
      "A value is trying to be set on a copy of a slice from a DataFrame.\n",
      "Try using .loc[row_indexer,col_indexer] = value instead\n",
      "\n",
      "See the caveats in the documentation: https://pandas.pydata.org/pandas-docs/stable/user_guide/indexing.html#returning-a-view-versus-a-copy\n",
      "  train['day_of_year'] = train['date'].dt.dayofyear\n",
      "/tmp/ipykernel_27/1357458643.py:9: SettingWithCopyWarning: \n",
      "A value is trying to be set on a copy of a slice from a DataFrame.\n",
      "Try using .loc[row_indexer,col_indexer] = value instead\n",
      "\n",
      "See the caveats in the documentation: https://pandas.pydata.org/pandas-docs/stable/user_guide/indexing.html#returning-a-view-versus-a-copy\n",
      "  train['day_of_month'] = train['date'].dt.day\n",
      "/tmp/ipykernel_27/1357458643.py:10: SettingWithCopyWarning: \n",
      "A value is trying to be set on a copy of a slice from a DataFrame.\n",
      "Try using .loc[row_indexer,col_indexer] = value instead\n",
      "\n",
      "See the caveats in the documentation: https://pandas.pydata.org/pandas-docs/stable/user_guide/indexing.html#returning-a-view-versus-a-copy\n",
      "  train['month'] = train['date'].dt.month\n",
      "/tmp/ipykernel_27/1357458643.py:11: SettingWithCopyWarning: \n",
      "A value is trying to be set on a copy of a slice from a DataFrame.\n",
      "Try using .loc[row_indexer,col_indexer] = value instead\n",
      "\n",
      "See the caveats in the documentation: https://pandas.pydata.org/pandas-docs/stable/user_guide/indexing.html#returning-a-view-versus-a-copy\n",
      "  train['quarter'] = train['date'].dt.quarter\n",
      "/tmp/ipykernel_27/1357458643.py:12: SettingWithCopyWarning: \n",
      "A value is trying to be set on a copy of a slice from a DataFrame.\n",
      "Try using .loc[row_indexer,col_indexer] = value instead\n",
      "\n",
      "See the caveats in the documentation: https://pandas.pydata.org/pandas-docs/stable/user_guide/indexing.html#returning-a-view-versus-a-copy\n",
      "  train['year'] = train['date'].dt.year\n"
     ]
    }
   ],
   "source": [
    "data_ = data.copy().reset_index()\n",
    "\n",
    "train = data_[data_['test'] == 0]\n",
    "test = data_[data_['test'] == 1]\n",
    "\n",
    "train['date'] = pd.to_datetime(train[\"date\"])\n",
    "train['day_of_week'] = train['date'].dt.day_of_week\n",
    "train['day_of_year'] = train['date'].dt.dayofyear\n",
    "train['day_of_month'] = train['date'].dt.day\n",
    "train['month'] = train['date'].dt.month\n",
    "train['quarter'] = train['date'].dt.quarter\n",
    "train['year'] = train['date'].dt.year"
   ]
  },
  {
   "cell_type": "code",
   "execution_count": 7,
   "id": "93516d7b",
   "metadata": {
    "execution": {
     "iopub.execute_input": "2024-01-31T17:51:53.653320Z",
     "iopub.status.busy": "2024-01-31T17:51:53.653008Z",
     "iopub.status.idle": "2024-01-31T17:51:53.975475Z",
     "shell.execute_reply": "2024-01-31T17:51:53.974653Z"
    },
    "papermill": {
     "duration": 0.332964,
     "end_time": "2024-01-31T17:51:53.977990",
     "exception": false,
     "start_time": "2024-01-31T17:51:53.645026",
     "status": "completed"
    },
    "tags": []
   },
   "outputs": [],
   "source": [
    "grouping_columns = ['year', 'quarter', 'month', 'day_of_week', 'day_of_year', 'day_of_month']\n",
    "\n",
    "for ind, column in enumerate(grouping_columns):\n",
    "    grouped_data = train.groupby(column)['sales'].sum()\n",
    "    grouped_data = pd.DataFrame(grouped_data).reset_index()"
   ]
  },
  {
   "cell_type": "code",
   "execution_count": 8,
   "id": "c76119b6",
   "metadata": {
    "execution": {
     "iopub.execute_input": "2024-01-31T17:51:53.994665Z",
     "iopub.status.busy": "2024-01-31T17:51:53.994007Z",
     "iopub.status.idle": "2024-01-31T17:51:55.045561Z",
     "shell.execute_reply": "2024-01-31T17:51:55.044574Z"
    },
    "papermill": {
     "duration": 1.062341,
     "end_time": "2024-01-31T17:51:55.047996",
     "exception": false,
     "start_time": "2024-01-31T17:51:53.985655",
     "status": "completed"
    },
    "tags": []
   },
   "outputs": [],
   "source": [
    "data_ = data.copy().reset_index()\n",
    "grouped_data = data_.groupby(['store_nbr', 'family'])"
   ]
  },
  {
   "cell_type": "code",
   "execution_count": 9,
   "id": "b981cb00",
   "metadata": {
    "execution": {
     "iopub.execute_input": "2024-01-31T17:51:55.063283Z",
     "iopub.status.busy": "2024-01-31T17:51:55.062569Z",
     "iopub.status.idle": "2024-01-31T17:52:08.762506Z",
     "shell.execute_reply": "2024-01-31T17:52:08.761641Z"
    },
    "papermill": {
     "duration": 13.709431,
     "end_time": "2024-01-31T17:52:08.764478",
     "exception": false,
     "start_time": "2024-01-31T17:51:55.055047",
     "status": "completed"
    },
    "tags": []
   },
   "outputs": [
    {
     "data": {
      "text/plain": [
       "count    3.068604e+06\n",
       "mean     3.002727e+00\n",
       "std      2.665066e+00\n",
       "min      0.000000e+00\n",
       "25%      1.550843e-02\n",
       "50%      2.562952e+00\n",
       "75%      5.312741e+00\n",
       "max      1.112374e+01\n",
       "Name: sales_lag_7_alpha_0.5, dtype: float64"
      ]
     },
     "execution_count": 9,
     "metadata": {},
     "output_type": "execute_result"
    }
   ],
   "source": [
    "alphas = [0.95, 0.8, 0.65, 0.5]\n",
    "lags =[1,7,30]\n",
    "\n",
    "for a in alphas:\n",
    "    for i in lags:\n",
    "        data_[f'sales_lag_{i}_alpha_{a}'] = np.log1p(grouped_data['sales'].transform(lambda x: x.shift(i).ewm(alpha=a, min_periods=1).mean()))\n",
    "\n",
    "data_['sales_lag_7_alpha_0.5'].describe()"
   ]
  },
  {
   "cell_type": "code",
   "execution_count": 10,
   "id": "179c6f36",
   "metadata": {
    "execution": {
     "iopub.execute_input": "2024-01-31T17:52:08.780731Z",
     "iopub.status.busy": "2024-01-31T17:52:08.780427Z",
     "iopub.status.idle": "2024-01-31T17:52:09.652723Z",
     "shell.execute_reply": "2024-01-31T17:52:09.651721Z"
    },
    "papermill": {
     "duration": 0.883579,
     "end_time": "2024-01-31T17:52:09.655143",
     "exception": false,
     "start_time": "2024-01-31T17:52:08.771564",
     "status": "completed"
    },
    "tags": []
   },
   "outputs": [],
   "source": [
    "data_['date'] = pd.to_datetime(data_[\"date\"])\n",
    "data_['day_of_week'] = data_['date'].dt.day_of_week\n",
    "data_['day_of_year'] = data_['date'].dt.dayofyear\n",
    "data_['day_of_month'] = data_['date'].dt.day\n",
    "data_['month'] = data_['date'].dt.month\n",
    "data_['quarter'] = data_['date'].dt.quarter\n",
    "data_['year'] = data_['date'].dt.year"
   ]
  },
  {
   "cell_type": "code",
   "execution_count": 11,
   "id": "fef1750b",
   "metadata": {
    "execution": {
     "iopub.execute_input": "2024-01-31T17:52:09.671418Z",
     "iopub.status.busy": "2024-01-31T17:52:09.671080Z",
     "iopub.status.idle": "2024-01-31T17:52:10.648598Z",
     "shell.execute_reply": "2024-01-31T17:52:10.647819Z"
    },
    "papermill": {
     "duration": 0.988589,
     "end_time": "2024-01-31T17:52:10.651086",
     "exception": false,
     "start_time": "2024-01-31T17:52:09.662497",
     "status": "completed"
    },
    "tags": []
   },
   "outputs": [],
   "source": [
    "data_['onpromotion'] = data_['onpromotion'].apply(lambda x: x > 0)"
   ]
  },
  {
   "cell_type": "code",
   "execution_count": 12,
   "id": "bd784498",
   "metadata": {
    "execution": {
     "iopub.execute_input": "2024-01-31T17:52:10.666460Z",
     "iopub.status.busy": "2024-01-31T17:52:10.666156Z",
     "iopub.status.idle": "2024-01-31T17:52:10.836898Z",
     "shell.execute_reply": "2024-01-31T17:52:10.836088Z"
    },
    "papermill": {
     "duration": 0.181014,
     "end_time": "2024-01-31T17:52:10.839221",
     "exception": false,
     "start_time": "2024-01-31T17:52:10.658207",
     "status": "completed"
    },
    "tags": []
   },
   "outputs": [],
   "source": [
    "sales_lag_columns = list(data_.filter(like=\"lag\").columns)"
   ]
  },
  {
   "cell_type": "code",
   "execution_count": 13,
   "id": "22bc655c",
   "metadata": {
    "execution": {
     "iopub.execute_input": "2024-01-31T17:52:10.855017Z",
     "iopub.status.busy": "2024-01-31T17:52:10.854627Z",
     "iopub.status.idle": "2024-01-31T17:52:14.643786Z",
     "shell.execute_reply": "2024-01-31T17:52:14.642974Z"
    },
    "papermill": {
     "duration": 3.799829,
     "end_time": "2024-01-31T17:52:14.646201",
     "exception": false,
     "start_time": "2024-01-31T17:52:10.846372",
     "status": "completed"
    },
    "tags": []
   },
   "outputs": [],
   "source": [
    "training_percentage = 0.8\n",
    "testing_percentage = 0.2\n",
    "\n",
    "to_dummies = ['day_of_week', 'day_of_month', 'month', 'quarter', 'year', 'store_nbr', 'type_y', 'cluster', 'family', 'onpromotion', 'type_x',\n",
    "       'locale', 'locale_name', 'city', 'state']\n",
    "\n",
    "X = data_.loc[:, [ 'day_of_week', 'day_of_month', 'month', 'quarter', 'year', 'store_nbr', 'type_y', 'cluster', 'family', 'onpromotion', 'type_x',\n",
    "       'locale', 'locale_name',  'city', 'state', 'test', 'sales', 'id']+ sales_lag_columns]\n",
    "X[to_dummies] = X[to_dummies].astype('category')\n",
    "\n",
    "data_train = X[X['test'] == 0]\n",
    "data_test = X[X['test'] == 1]\n",
    "\n",
    "n = len(data_train)\n",
    "\n",
    "training_start = 0\n",
    "training_end = math.floor(n * training_percentage)\n",
    "validation_start = training_end\n",
    "validation_end = n\n",
    "\n",
    "X_train = data_train.loc[training_start:training_end, :].drop(['test', 'sales', 'id'],  axis=1)\n",
    "y_train = data_train.loc[training_start:training_end, 'sales']\n",
    "X_val = data_train.loc[validation_start:validation_end,  :].drop(['test', 'sales', 'id'],  axis=1)\n",
    "y_val = data_train.loc[validation_start:validation_end, 'sales']\n",
    "\n",
    "X_test = data_test.loc[:, ].drop(['test', 'sales', 'id'],  axis=1)"
   ]
  },
  {
   "cell_type": "code",
   "execution_count": 14,
   "id": "690caecb",
   "metadata": {
    "execution": {
     "iopub.execute_input": "2024-01-31T17:52:14.662367Z",
     "iopub.status.busy": "2024-01-31T17:52:14.661561Z",
     "iopub.status.idle": "2024-01-31T17:52:15.012350Z",
     "shell.execute_reply": "2024-01-31T17:52:15.011332Z"
    },
    "papermill": {
     "duration": 0.361033,
     "end_time": "2024-01-31T17:52:15.014800",
     "exception": false,
     "start_time": "2024-01-31T17:52:14.653767",
     "status": "completed"
    },
    "tags": []
   },
   "outputs": [],
   "source": [
    "X_train = X_train.rename(columns = lambda x:re.sub('[^A-Za-z0-9_]+', '', x)) \n",
    "X_val = X_val.rename(columns = lambda x:re.sub('[^A-Za-z0-9_]+', '', x)) \n",
    "X_test = X_test.rename(columns = lambda x:re.sub('[^A-Za-z0-9_]+', '', x)) "
   ]
  },
  {
   "cell_type": "code",
   "execution_count": 15,
   "id": "5f22cdad",
   "metadata": {
    "execution": {
     "iopub.execute_input": "2024-01-31T17:52:15.030431Z",
     "iopub.status.busy": "2024-01-31T17:52:15.030073Z",
     "iopub.status.idle": "2024-01-31T17:52:45.710544Z",
     "shell.execute_reply": "2024-01-31T17:52:45.709501Z"
    },
    "papermill": {
     "duration": 30.69781,
     "end_time": "2024-01-31T17:52:45.719661",
     "exception": false,
     "start_time": "2024-01-31T17:52:15.021851",
     "status": "completed"
    },
    "tags": []
   },
   "outputs": [
    {
     "name": "stdout",
     "output_type": "stream",
     "text": [
      "[LightGBM] [Warning] feature_fraction is set=0.9, colsample_bytree=1.0 will be ignored. Current value: feature_fraction=0.9\n",
      "[LightGBM] [Warning] bagging_fraction is set=0.7, subsample=1.0 will be ignored. Current value: bagging_fraction=0.7\n",
      "[LightGBM] [Warning] bagging_freq is set=10, subsample_freq=0 will be ignored. Current value: bagging_freq=10\n",
      "[LightGBM] [Warning] feature_fraction is set=0.9, colsample_bytree=1.0 will be ignored. Current value: feature_fraction=0.9\n",
      "[LightGBM] [Warning] bagging_fraction is set=0.7, subsample=1.0 will be ignored. Current value: bagging_fraction=0.7\n",
      "[LightGBM] [Warning] bagging_freq is set=10, subsample_freq=0 will be ignored. Current value: bagging_freq=10\n",
      "[LightGBM] [Warning] feature_fraction is set=0.9, colsample_bytree=1.0 will be ignored. Current value: feature_fraction=0.9\n",
      "[LightGBM] [Warning] bagging_fraction is set=0.7, subsample=1.0 will be ignored. Current value: bagging_fraction=0.7\n",
      "[LightGBM] [Warning] bagging_freq is set=10, subsample_freq=0 will be ignored. Current value: bagging_freq=10\n"
     ]
    },
    {
     "data": {
      "text/html": [
       "<style>#sk-container-id-1 {color: black;background-color: white;}#sk-container-id-1 pre{padding: 0;}#sk-container-id-1 div.sk-toggleable {background-color: white;}#sk-container-id-1 label.sk-toggleable__label {cursor: pointer;display: block;width: 100%;margin-bottom: 0;padding: 0.3em;box-sizing: border-box;text-align: center;}#sk-container-id-1 label.sk-toggleable__label-arrow:before {content: \"▸\";float: left;margin-right: 0.25em;color: #696969;}#sk-container-id-1 label.sk-toggleable__label-arrow:hover:before {color: black;}#sk-container-id-1 div.sk-estimator:hover label.sk-toggleable__label-arrow:before {color: black;}#sk-container-id-1 div.sk-toggleable__content {max-height: 0;max-width: 0;overflow: hidden;text-align: left;background-color: #f0f8ff;}#sk-container-id-1 div.sk-toggleable__content pre {margin: 0.2em;color: black;border-radius: 0.25em;background-color: #f0f8ff;}#sk-container-id-1 input.sk-toggleable__control:checked~div.sk-toggleable__content {max-height: 200px;max-width: 100%;overflow: auto;}#sk-container-id-1 input.sk-toggleable__control:checked~label.sk-toggleable__label-arrow:before {content: \"▾\";}#sk-container-id-1 div.sk-estimator input.sk-toggleable__control:checked~label.sk-toggleable__label {background-color: #d4ebff;}#sk-container-id-1 div.sk-label input.sk-toggleable__control:checked~label.sk-toggleable__label {background-color: #d4ebff;}#sk-container-id-1 input.sk-hidden--visually {border: 0;clip: rect(1px 1px 1px 1px);clip: rect(1px, 1px, 1px, 1px);height: 1px;margin: -1px;overflow: hidden;padding: 0;position: absolute;width: 1px;}#sk-container-id-1 div.sk-estimator {font-family: monospace;background-color: #f0f8ff;border: 1px dotted black;border-radius: 0.25em;box-sizing: border-box;margin-bottom: 0.5em;}#sk-container-id-1 div.sk-estimator:hover {background-color: #d4ebff;}#sk-container-id-1 div.sk-parallel-item::after {content: \"\";width: 100%;border-bottom: 1px solid gray;flex-grow: 1;}#sk-container-id-1 div.sk-label:hover label.sk-toggleable__label {background-color: #d4ebff;}#sk-container-id-1 div.sk-serial::before {content: \"\";position: absolute;border-left: 1px solid gray;box-sizing: border-box;top: 0;bottom: 0;left: 50%;z-index: 0;}#sk-container-id-1 div.sk-serial {display: flex;flex-direction: column;align-items: center;background-color: white;padding-right: 0.2em;padding-left: 0.2em;position: relative;}#sk-container-id-1 div.sk-item {position: relative;z-index: 1;}#sk-container-id-1 div.sk-parallel {display: flex;align-items: stretch;justify-content: center;background-color: white;position: relative;}#sk-container-id-1 div.sk-item::before, #sk-container-id-1 div.sk-parallel-item::before {content: \"\";position: absolute;border-left: 1px solid gray;box-sizing: border-box;top: 0;bottom: 0;left: 50%;z-index: -1;}#sk-container-id-1 div.sk-parallel-item {display: flex;flex-direction: column;z-index: 1;position: relative;background-color: white;}#sk-container-id-1 div.sk-parallel-item:first-child::after {align-self: flex-end;width: 50%;}#sk-container-id-1 div.sk-parallel-item:last-child::after {align-self: flex-start;width: 50%;}#sk-container-id-1 div.sk-parallel-item:only-child::after {width: 0;}#sk-container-id-1 div.sk-dashed-wrapped {border: 1px dashed gray;margin: 0 0.4em 0.5em 0.4em;box-sizing: border-box;padding-bottom: 0.4em;background-color: white;}#sk-container-id-1 div.sk-label label {font-family: monospace;font-weight: bold;display: inline-block;line-height: 1.2em;}#sk-container-id-1 div.sk-label-container {text-align: center;}#sk-container-id-1 div.sk-container {/* jupyter's `normalize.less` sets `[hidden] { display: none; }` but bootstrap.min.css set `[hidden] { display: none !important; }` so we also need the `!important` here to be able to override the default hidden behavior on the sphinx rendered scikit-learn.org. See: https://github.com/scikit-learn/scikit-learn/issues/21755 */display: inline-block !important;position: relative;}#sk-container-id-1 div.sk-text-repr-fallback {display: none;}</style><div id=\"sk-container-id-1\" class=\"sk-top-container\"><div class=\"sk-text-repr-fallback\"><pre>LGBMRegressor(bagging_fraction=0.7, bagging_freq=10, feature_fraction=0.9,\n",
       "              max_bin=512, max_depth=50, metric=[&#x27;l1&#x27;, &#x27;l2&#x27;], num_leaves=128,\n",
       "              objective=&#x27;regression&#x27;, task=&#x27;train&#x27;, verbose=0)</pre><b>In a Jupyter environment, please rerun this cell to show the HTML representation or trust the notebook. <br />On GitHub, the HTML representation is unable to render, please try loading this page with nbviewer.org.</b></div><div class=\"sk-container\" hidden><div class=\"sk-item\"><div class=\"sk-estimator sk-toggleable\"><input class=\"sk-toggleable__control sk-hidden--visually\" id=\"sk-estimator-id-1\" type=\"checkbox\" checked><label for=\"sk-estimator-id-1\" class=\"sk-toggleable__label sk-toggleable__label-arrow\">LGBMRegressor</label><div class=\"sk-toggleable__content\"><pre>LGBMRegressor(bagging_fraction=0.7, bagging_freq=10, feature_fraction=0.9,\n",
       "              max_bin=512, max_depth=50, metric=[&#x27;l1&#x27;, &#x27;l2&#x27;], num_leaves=128,\n",
       "              objective=&#x27;regression&#x27;, task=&#x27;train&#x27;, verbose=0)</pre></div></div></div></div></div>"
      ],
      "text/plain": [
       "LGBMRegressor(bagging_fraction=0.7, bagging_freq=10, feature_fraction=0.9,\n",
       "              max_bin=512, max_depth=50, metric=['l1', 'l2'], num_leaves=128,\n",
       "              objective='regression', task='train', verbose=0)"
      ]
     },
     "execution_count": 15,
     "metadata": {},
     "output_type": "execute_result"
    }
   ],
   "source": [
    "hyper_params = {'task': 'train','boosting_type': 'gbdt','objective': 'regression','metric': ['l1','l2'],'learning_rate': 0.1,\n",
    "'feature_fraction': 0.9,'bagging_fraction': 0.7,'bagging_freq': 10,'verbose': 0,\"max_depth\": 50,\"num_leaves\": 128,\"max_bin\": 512}\n",
    "\n",
    "gbm = lgb.LGBMRegressor(**hyper_params)\n",
    "\n",
    "gbm.fit(X_train, y_train,\n",
    "        eval_set=[(X_val, y_val)],\n",
    "        eval_metric='l1')"
   ]
  },
  {
   "cell_type": "code",
   "execution_count": 16,
   "id": "47f8cd5f",
   "metadata": {
    "execution": {
     "iopub.execute_input": "2024-01-31T17:52:45.735511Z",
     "iopub.status.busy": "2024-01-31T17:52:45.735179Z",
     "iopub.status.idle": "2024-01-31T17:52:47.323583Z",
     "shell.execute_reply": "2024-01-31T17:52:47.322585Z"
    },
    "papermill": {
     "duration": 1.599093,
     "end_time": "2024-01-31T17:52:47.326047",
     "exception": false,
     "start_time": "2024-01-31T17:52:45.726954",
     "status": "completed"
    },
    "tags": []
   },
   "outputs": [
    {
     "name": "stdout",
     "output_type": "stream",
     "text": [
      "[LightGBM] [Warning] feature_fraction is set=0.9, colsample_bytree=1.0 will be ignored. Current value: feature_fraction=0.9\n",
      "[LightGBM] [Warning] bagging_fraction is set=0.7, subsample=1.0 will be ignored. Current value: bagging_fraction=0.7\n",
      "[LightGBM] [Warning] bagging_freq is set=10, subsample_freq=0 will be ignored. Current value: bagging_freq=10\n"
     ]
    }
   ],
   "source": [
    "y_pred = gbm.predict(X_val)"
   ]
  },
  {
   "cell_type": "code",
   "execution_count": 17,
   "id": "3a240fbc",
   "metadata": {
    "execution": {
     "iopub.execute_input": "2024-01-31T17:52:47.343117Z",
     "iopub.status.busy": "2024-01-31T17:52:47.342262Z",
     "iopub.status.idle": "2024-01-31T17:52:47.373712Z",
     "shell.execute_reply": "2024-01-31T17:52:47.372722Z"
    },
    "papermill": {
     "duration": 0.042095,
     "end_time": "2024-01-31T17:52:47.375852",
     "exception": false,
     "start_time": "2024-01-31T17:52:47.333757",
     "status": "completed"
    },
    "tags": []
   },
   "outputs": [
    {
     "data": {
      "text/html": [
       "<div>\n",
       "<style scoped>\n",
       "    .dataframe tbody tr th:only-of-type {\n",
       "        vertical-align: middle;\n",
       "    }\n",
       "\n",
       "    .dataframe tbody tr th {\n",
       "        vertical-align: top;\n",
       "    }\n",
       "\n",
       "    .dataframe thead th {\n",
       "        text-align: right;\n",
       "    }\n",
       "</style>\n",
       "<table border=\"1\" class=\"dataframe\">\n",
       "  <thead>\n",
       "    <tr style=\"text-align: right;\">\n",
       "      <th></th>\n",
       "      <th>y_val</th>\n",
       "      <th>y_pred</th>\n",
       "    </tr>\n",
       "  </thead>\n",
       "  <tbody>\n",
       "    <tr>\n",
       "      <th>3</th>\n",
       "      <td>19.000</td>\n",
       "      <td>106.410473</td>\n",
       "    </tr>\n",
       "    <tr>\n",
       "      <th>5</th>\n",
       "      <td>119.630</td>\n",
       "      <td>121.568432</td>\n",
       "    </tr>\n",
       "    <tr>\n",
       "      <th>6</th>\n",
       "      <td>181.000</td>\n",
       "      <td>255.618499</td>\n",
       "    </tr>\n",
       "    <tr>\n",
       "      <th>9</th>\n",
       "      <td>165.181</td>\n",
       "      <td>191.744160</td>\n",
       "    </tr>\n",
       "    <tr>\n",
       "      <th>10</th>\n",
       "      <td>95.198</td>\n",
       "      <td>79.172090</td>\n",
       "    </tr>\n",
       "    <tr>\n",
       "      <th>...</th>\n",
       "      <td>...</td>\n",
       "      <td>...</td>\n",
       "    </tr>\n",
       "    <tr>\n",
       "      <th>610509</th>\n",
       "      <td>438.133</td>\n",
       "      <td>343.113848</td>\n",
       "    </tr>\n",
       "    <tr>\n",
       "      <th>610510</th>\n",
       "      <td>154.553</td>\n",
       "      <td>119.901681</td>\n",
       "    </tr>\n",
       "    <tr>\n",
       "      <th>610511</th>\n",
       "      <td>2419.729</td>\n",
       "      <td>2109.172875</td>\n",
       "    </tr>\n",
       "    <tr>\n",
       "      <th>610512</th>\n",
       "      <td>121.000</td>\n",
       "      <td>170.938767</td>\n",
       "    </tr>\n",
       "    <tr>\n",
       "      <th>610513</th>\n",
       "      <td>16.000</td>\n",
       "      <td>16.876860</td>\n",
       "    </tr>\n",
       "  </tbody>\n",
       "</table>\n",
       "<p>371723 rows × 2 columns</p>\n",
       "</div>"
      ],
      "text/plain": [
       "           y_val       y_pred\n",
       "3         19.000   106.410473\n",
       "5        119.630   121.568432\n",
       "6        181.000   255.618499\n",
       "9        165.181   191.744160\n",
       "10        95.198    79.172090\n",
       "...          ...          ...\n",
       "610509   438.133   343.113848\n",
       "610510   154.553   119.901681\n",
       "610511  2419.729  2109.172875\n",
       "610512   121.000   170.938767\n",
       "610513    16.000    16.876860\n",
       "\n",
       "[371723 rows x 2 columns]"
      ]
     },
     "execution_count": 17,
     "metadata": {},
     "output_type": "execute_result"
    }
   ],
   "source": [
    "results = pd.concat([y_val.reset_index(drop=True), pd.Series(y_pred)], axis=1).rename(columns={'sales': 'y_val', 0: 'y_pred'})\n",
    "\n",
    "results['y_pred'] = results['y_pred'].clip(0)\n",
    "\n",
    "results = results[results['y_val'] > 10]\n",
    "\n",
    "results"
   ]
  },
  {
   "cell_type": "code",
   "execution_count": 18,
   "id": "61facf0a",
   "metadata": {
    "execution": {
     "iopub.execute_input": "2024-01-31T17:52:47.393843Z",
     "iopub.status.busy": "2024-01-31T17:52:47.393104Z",
     "iopub.status.idle": "2024-01-31T17:52:47.479141Z",
     "shell.execute_reply": "2024-01-31T17:52:47.478039Z"
    },
    "papermill": {
     "duration": 0.097624,
     "end_time": "2024-01-31T17:52:47.481655",
     "exception": false,
     "start_time": "2024-01-31T17:52:47.384031",
     "status": "completed"
    },
    "tags": []
   },
   "outputs": [
    {
     "name": "stdout",
     "output_type": "stream",
     "text": [
      "[LightGBM] [Warning] feature_fraction is set=0.9, colsample_bytree=1.0 will be ignored. Current value: feature_fraction=0.9\n",
      "[LightGBM] [Warning] bagging_fraction is set=0.7, subsample=1.0 will be ignored. Current value: bagging_fraction=0.7\n",
      "[LightGBM] [Warning] bagging_freq is set=10, subsample_freq=0 will be ignored. Current value: bagging_freq=10\n"
     ]
    },
    {
     "data": {
      "text/plain": [
       "array([3.05619610e+00, 1.44530221e+00, 1.33109762e+01, ...,\n",
       "       1.98464858e+03, 1.47236049e+02, 1.80003214e+01])"
      ]
     },
     "execution_count": 18,
     "metadata": {},
     "output_type": "execute_result"
    }
   ],
   "source": [
    "y_pred = gbm.predict(X_test)\n",
    "y_pred"
   ]
  },
  {
   "cell_type": "code",
   "execution_count": 19,
   "id": "61c70e91",
   "metadata": {
    "execution": {
     "iopub.execute_input": "2024-01-31T17:52:47.500032Z",
     "iopub.status.busy": "2024-01-31T17:52:47.499298Z",
     "iopub.status.idle": "2024-01-31T17:52:47.506990Z",
     "shell.execute_reply": "2024-01-31T17:52:47.506129Z"
    },
    "papermill": {
     "duration": 0.018813,
     "end_time": "2024-01-31T17:52:47.508941",
     "exception": false,
     "start_time": "2024-01-31T17:52:47.490128",
     "status": "completed"
    },
    "tags": []
   },
   "outputs": [],
   "source": [
    "data_test['id']\n",
    "output = pd.DataFrame(index=data_test['id'])\n",
    "output['sales'] = y_pred\n",
    "output['sales'] = output['sales'].clip(0)"
   ]
  },
  {
   "cell_type": "code",
   "execution_count": 20,
   "id": "214b2540",
   "metadata": {
    "execution": {
     "iopub.execute_input": "2024-01-31T17:52:47.527194Z",
     "iopub.status.busy": "2024-01-31T17:52:47.526486Z",
     "iopub.status.idle": "2024-01-31T17:52:47.608802Z",
     "shell.execute_reply": "2024-01-31T17:52:47.608012Z"
    },
    "papermill": {
     "duration": 0.093993,
     "end_time": "2024-01-31T17:52:47.611185",
     "exception": false,
     "start_time": "2024-01-31T17:52:47.517192",
     "status": "completed"
    },
    "tags": []
   },
   "outputs": [],
   "source": [
    "output.to_csv('/kaggle/working/submission.csv')"
   ]
  }
 ],
 "metadata": {
  "kaggle": {
   "accelerator": "gpu",
   "dataSources": [
    {
     "databundleVersionId": 2887556,
     "sourceId": 29781,
     "sourceType": "competition"
    }
   ],
   "dockerImageVersionId": 30648,
   "isGpuEnabled": true,
   "isInternetEnabled": true,
   "language": "python",
   "sourceType": "notebook"
  },
  "kernelspec": {
   "display_name": "Python 3",
   "language": "python",
   "name": "python3"
  },
  "language_info": {
   "codemirror_mode": {
    "name": "ipython",
    "version": 3
   },
   "file_extension": ".py",
   "mimetype": "text/x-python",
   "name": "python",
   "nbconvert_exporter": "python",
   "pygments_lexer": "ipython3",
   "version": "3.10.13"
  },
  "papermill": {
   "default_parameters": {},
   "duration": 79.403208,
   "end_time": "2024-01-31T17:52:48.740977",
   "environment_variables": {},
   "exception": null,
   "input_path": "__notebook__.ipynb",
   "output_path": "__notebook__.ipynb",
   "parameters": {},
   "start_time": "2024-01-31T17:51:29.337769",
   "version": "2.5.0"
  }
 },
 "nbformat": 4,
 "nbformat_minor": 5
}
